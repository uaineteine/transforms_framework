{
 "cells": [
  {
   "cell_type": "code",
   "execution_count": 22,
   "id": "ab812450",
   "metadata": {},
   "outputs": [],
   "source": [
    "from transformslib.tables.names.tablename import Tablename"
   ]
  },
  {
   "cell_type": "code",
   "execution_count": 30,
   "id": "4dafbfcc",
   "metadata": {},
   "outputs": [
    {
     "ename": "ValueError",
     "evalue": "Invalid table name format: 'example table??'. Must be non-empty, start with a letter or underscore, and contain only alphanumeric characters or underscores. Purely numeric names are allowed.",
     "output_type": "error",
     "traceback": [
      "\u001b[1;31m---------------------------------------------------------------------------\u001b[0m",
      "\u001b[1;31mValueError\u001b[0m                                Traceback (most recent call last)",
      "Cell \u001b[1;32mIn[30], line 1\u001b[0m\n\u001b[1;32m----> 1\u001b[0m \u001b[43mTablename\u001b[49m\u001b[43m(\u001b[49m\u001b[38;5;124;43m\"\u001b[39;49m\u001b[38;5;124;43mexample table??\u001b[39;49m\u001b[38;5;124;43m\"\u001b[39;49m\u001b[43m)\u001b[49m\n",
      "File \u001b[1;32mc:\\Users\\Daniel\\Documents\\work\\ABS\\DA\\transforms_framework\\transformslib\\tables\\names\\tablename.py:53\u001b[0m, in \u001b[0;36mTablename.__new__\u001b[1;34m(cls, table_name)\u001b[0m\n\u001b[0;32m     43\u001b[0m \u001b[38;5;250m\u001b[39m\u001b[38;5;124;03m\"\"\"\u001b[39;00m\n\u001b[0;32m     44\u001b[0m \u001b[38;5;124;03mCreate a new Tablename instance with validation.\u001b[39;00m\n\u001b[0;32m     45\u001b[0m \n\u001b[1;32m   (...)\u001b[0m\n\u001b[0;32m     50\u001b[0m \u001b[38;5;124;03m    ValueError: If the name is empty or improperly formatted.\u001b[39;00m\n\u001b[0;32m     51\u001b[0m \u001b[38;5;124;03m\"\"\"\u001b[39;00m\n\u001b[0;32m     52\u001b[0m \u001b[38;5;28;01mif\u001b[39;00m \u001b[38;5;129;01mnot\u001b[39;00m \u001b[38;5;28mcls\u001b[39m\u001b[38;5;241m.\u001b[39macceptable_format(table_name):\n\u001b[1;32m---> 53\u001b[0m     \u001b[38;5;28;01mraise\u001b[39;00m \u001b[38;5;167;01mValueError\u001b[39;00m(\n\u001b[0;32m     54\u001b[0m         \u001b[38;5;124mf\u001b[39m\u001b[38;5;124m\"\u001b[39m\u001b[38;5;124mInvalid table name format: \u001b[39m\u001b[38;5;124m'\u001b[39m\u001b[38;5;132;01m{\u001b[39;00mtable_name\u001b[38;5;132;01m}\u001b[39;00m\u001b[38;5;124m'\u001b[39m\u001b[38;5;124m. \u001b[39m\u001b[38;5;124m\"\u001b[39m\n\u001b[0;32m     55\u001b[0m         \u001b[38;5;124m\"\u001b[39m\u001b[38;5;124mMust be non-empty, start with a letter or underscore, and contain only alphanumeric characters or underscores. \u001b[39m\u001b[38;5;124m\"\u001b[39m\n\u001b[0;32m     56\u001b[0m         \u001b[38;5;124m\"\u001b[39m\u001b[38;5;124mPurely numeric names are allowed.\u001b[39m\u001b[38;5;124m\"\u001b[39m\n\u001b[0;32m     57\u001b[0m     )\n\u001b[0;32m     58\u001b[0m \u001b[38;5;28;01mreturn\u001b[39;00m \u001b[38;5;28mstr\u001b[39m\u001b[38;5;241m.\u001b[39m\u001b[38;5;21m__new__\u001b[39m(\u001b[38;5;28mcls\u001b[39m, table_name)\n",
      "\u001b[1;31mValueError\u001b[0m: Invalid table name format: 'example table??'. Must be non-empty, start with a letter or underscore, and contain only alphanumeric characters or underscores. Purely numeric names are allowed."
     ]
    }
   ],
   "source": [
    "Tablename(\"example table??\")"
   ]
  },
  {
   "cell_type": "code",
   "execution_count": 25,
   "id": "e7c37ca1",
   "metadata": {},
   "outputs": [],
   "source": [
    "from transformslib.tables.names.colname import Colname"
   ]
  },
  {
   "cell_type": "code",
   "execution_count": null,
   "id": "3c13e052",
   "metadata": {},
   "outputs": [
    {
     "data": {
      "text/plain": [
       "'captasfa'"
      ]
     },
     "execution_count": 29,
     "metadata": {},
     "output_type": "execute_result"
    }
   ],
   "source": [
    "Colname(\"CAPTasfa\")"
   ]
  },
  {
   "cell_type": "code",
   "execution_count": 31,
   "id": "12a229f8",
   "metadata": {},
   "outputs": [],
   "source": [
    "from transformslib.tables.names.lists import ColList"
   ]
  },
  {
   "cell_type": "code",
   "execution_count": null,
   "id": "615f5820",
   "metadata": {},
   "outputs": [
    {
     "name": "stdout",
     "output_type": "stream",
     "text": [
      "{\n",
      "  \"var_names\": [\n",
      "    \"b\"\n",
      "  ]\n",
      "}\n"
     ]
    }
   ],
   "source": [
    "cols_df1 = ColList([\"a\", \"B\", \"c\"])\n",
    "cols_df2 = ColList([\"d\", \"f\", \"b\"])\n",
    "\n",
    "overlap = cols_df1.overlap(cols_df2)\n",
    "cols_df1.extend_with(cols_df2)\n",
    "print(overlap.to_json())"
   ]
  },
  {
   "cell_type": "code",
   "execution_count": 46,
   "id": "682747a9",
   "metadata": {},
   "outputs": [
    {
     "name": "stdout",
     "output_type": "stream",
     "text": [
      "Creating Spark session\n"
     ]
    }
   ],
   "source": [
    "from pyspark.sql import SparkSession\n",
    "# Create Spark session\n",
    "print(\"Creating Spark session\")\n",
    "spark = SparkSession.builder.master(\"local\").appName(\"TransformTest\").getOrCreate()"
   ]
  },
  {
   "cell_type": "code",
   "execution_count": 54,
   "id": "b0711ab2",
   "metadata": {},
   "outputs": [
    {
     "ename": "TypeError",
     "evalue": "df must be a Polars DataFrame when frame_type is 'polars'",
     "output_type": "error",
     "traceback": [
      "\u001b[1;31m---------------------------------------------------------------------------\u001b[0m",
      "\u001b[1;31mTypeError\u001b[0m                                 Traceback (most recent call last)",
      "Cell \u001b[1;32mIn[54], line 3\u001b[0m\n\u001b[0;32m      1\u001b[0m \u001b[38;5;28;01mfrom\u001b[39;00m\u001b[38;5;250m \u001b[39m\u001b[38;5;21;01mtransformslib\u001b[39;00m\u001b[38;5;21;01m.\u001b[39;00m\u001b[38;5;21;01mtables\u001b[39;00m\u001b[38;5;21;01m.\u001b[39;00m\u001b[38;5;21;01mmultitable\u001b[39;00m\u001b[38;5;250m \u001b[39m\u001b[38;5;28;01mimport\u001b[39;00m MultiTable\n\u001b[1;32m----> 3\u001b[0m df \u001b[38;5;241m=\u001b[39m \u001b[43mMultiTable\u001b[49m\u001b[38;5;241;43m.\u001b[39;49m\u001b[43mload\u001b[49m\u001b[43m(\u001b[49m\u001b[38;5;124;43m\"\u001b[39;49m\u001b[38;5;124;43mtest_tables/job_1/date_table.csv\u001b[39;49m\u001b[38;5;124;43m\"\u001b[39;49m\u001b[43m,\u001b[49m\u001b[43m \u001b[49m\u001b[38;5;28;43mformat\u001b[39;49m\u001b[38;5;241;43m=\u001b[39;49m\u001b[38;5;124;43m\"\u001b[39;49m\u001b[38;5;124;43mcsv\u001b[39;49m\u001b[38;5;124;43m\"\u001b[39;49m\u001b[43m,\u001b[49m\u001b[43m \u001b[49m\u001b[43mtable_name\u001b[49m\u001b[38;5;241;43m=\u001b[39;49m\u001b[38;5;124;43m\"\u001b[39;49m\u001b[38;5;124;43mmy_first_table\u001b[39;49m\u001b[38;5;124;43m\"\u001b[39;49m\u001b[43m,\u001b[49m\u001b[43m \u001b[49m\u001b[43mframe_type\u001b[49m\u001b[38;5;241;43m=\u001b[39;49m\u001b[38;5;124;43m\"\u001b[39;49m\u001b[38;5;124;43mpolars\u001b[39;49m\u001b[38;5;124;43m\"\u001b[39;49m\u001b[43m)\u001b[49m\n",
      "File \u001b[1;32mc:\\Users\\Daniel\\Documents\\work\\ABS\\DA\\transforms_framework\\transformslib\\tables\\multitable.py:451\u001b[0m, in \u001b[0;36mMultiTable.load\u001b[1;34m(path, format, table_name, frame_type, auto_capitalise, spark)\u001b[0m\n\u001b[0;32m    447\u001b[0m         \u001b[38;5;28;01mraise\u001b[39;00m \u001b[38;5;167;01mValueError\u001b[39;00m(\u001b[38;5;124m\"\u001b[39m\u001b[38;5;124mUnsupported frame_type for auto_capitalise\u001b[39m\u001b[38;5;124m\"\u001b[39m)\n\u001b[0;32m    449\u001b[0m \u001b[38;5;66;03m#print(df.columns)\u001b[39;00m\n\u001b[0;32m    450\u001b[0m \u001b[38;5;66;03m#package into metaframe\u001b[39;00m\n\u001b[1;32m--> 451\u001b[0m mf \u001b[38;5;241m=\u001b[39m \u001b[43mMultiTable\u001b[49m\u001b[43m(\u001b[49m\u001b[43mdf\u001b[49m\u001b[43m,\u001b[49m\u001b[43m \u001b[49m\u001b[43msrc_path\u001b[49m\u001b[38;5;241;43m=\u001b[39;49m\u001b[43mpath\u001b[49m\u001b[43m,\u001b[49m\u001b[43m \u001b[49m\u001b[43mtable_name\u001b[49m\u001b[38;5;241;43m=\u001b[39;49m\u001b[43mtable_name\u001b[49m\u001b[43m,\u001b[49m\u001b[43m \u001b[49m\u001b[43mframe_type\u001b[49m\u001b[38;5;241;43m=\u001b[39;49m\u001b[43mframe_type\u001b[49m\u001b[43m)\u001b[49m\n\u001b[0;32m    453\u001b[0m \u001b[38;5;28;01mreturn\u001b[39;00m mf\n",
      "File \u001b[1;32mc:\\Users\\Daniel\\Documents\\work\\ABS\\DA\\transforms_framework\\transformslib\\tables\\multitable.py:153\u001b[0m, in \u001b[0;36mMultiTable.__init__\u001b[1;34m(self, df, src_path, table_name, frame_type)\u001b[0m\n\u001b[0;32m    129\u001b[0m \u001b[38;5;250m\u001b[39m\u001b[38;5;124;03m\"\"\"\u001b[39;00m\n\u001b[0;32m    130\u001b[0m \u001b[38;5;124;03mInitialise a MultiTable with a DataFrame and metadata.\u001b[39;00m\n\u001b[0;32m    131\u001b[0m \n\u001b[1;32m   (...)\u001b[0m\n\u001b[0;32m    150\u001b[0m \u001b[38;5;124;03m    >>> mf = MultiTable(df, \"data.csv\", frame_type=\"pandas\")\u001b[39;00m\n\u001b[0;32m    151\u001b[0m \u001b[38;5;124;03m\"\"\"\u001b[39;00m\n\u001b[0;32m    152\u001b[0m \u001b[38;5;66;03m#verify the frame type\u001b[39;00m\n\u001b[1;32m--> 153\u001b[0m \u001b[43mFrameTypeVerifier\u001b[49m\u001b[38;5;241;43m.\u001b[39;49m\u001b[43mverify\u001b[49m\u001b[43m(\u001b[49m\u001b[43mdf\u001b[49m\u001b[43m,\u001b[49m\u001b[43m \u001b[49m\u001b[43mframe_type\u001b[49m\u001b[43m)\u001b[49m\n\u001b[0;32m    155\u001b[0m \u001b[38;5;66;03m#store the dataframe and type\u001b[39;00m\n\u001b[0;32m    156\u001b[0m \u001b[38;5;28mself\u001b[39m\u001b[38;5;241m.\u001b[39mdf \u001b[38;5;241m=\u001b[39m df\n",
      "File \u001b[1;32mh:\\Program Files\\Python310\\lib\\site-packages\\uainepydat\\frameverifier.py:51\u001b[0m, in \u001b[0;36mFrameTypeVerifier.verify\u001b[1;34m(df, frame_type)\u001b[0m\n\u001b[0;32m     49\u001b[0m     pl \u001b[38;5;241m=\u001b[39m \u001b[38;5;28;01mNone\u001b[39;00m\n\u001b[0;32m     50\u001b[0m \u001b[38;5;28;01mif\u001b[39;00m \u001b[38;5;129;01mnot\u001b[39;00m \u001b[38;5;28misinstance\u001b[39m(df, pl\u001b[38;5;241m.\u001b[39mDataFrame):\n\u001b[1;32m---> 51\u001b[0m     \u001b[38;5;28;01mraise\u001b[39;00m \u001b[38;5;167;01mTypeError\u001b[39;00m(\u001b[38;5;124m\"\u001b[39m\u001b[38;5;124mdf must be a Polars DataFrame when frame_type is \u001b[39m\u001b[38;5;124m'\u001b[39m\u001b[38;5;124mpolars\u001b[39m\u001b[38;5;124m'\u001b[39m\u001b[38;5;124m\"\u001b[39m)\n",
      "\u001b[1;31mTypeError\u001b[0m: df must be a Polars DataFrame when frame_type is 'polars'"
     ]
    }
   ],
   "source": [
    "from transformslib.tables.multitable import MultiTable\n",
    "\n",
    "df = MultiTable.load(\"test_tables/job_1/date_table.csv\", format=\"csv\", table_name=\"my_first_table\", frame_type=\"polars\")"
   ]
  },
  {
   "cell_type": "code",
   "execution_count": 48,
   "id": "112693c1",
   "metadata": {},
   "outputs": [
    {
     "name": "stdout",
     "output_type": "stream",
     "text": [
      "+---+-------+----------+\n",
      "| id|   name|event_date|\n",
      "+---+-------+----------+\n",
      "|  1|  Alice|2025-01-15|\n",
      "|  2|    Bob|2023-03-22|\n",
      "|  3|Charlie|2023-07-04|\n",
      "|  4|  Diana|2023-10-31|\n",
      "|  5|  Ethan|2023-12-25|\n",
      "+---+-------+----------+\n",
      "\n"
     ]
    }
   ],
   "source": [
    "df.show()"
   ]
  },
  {
   "cell_type": "code",
   "execution_count": 49,
   "id": "5c1a6df6",
   "metadata": {},
   "outputs": [
    {
     "data": {
      "text/plain": [
       "['id', 'name', 'event_date']"
      ]
     },
     "execution_count": 49,
     "metadata": {},
     "output_type": "execute_result"
    }
   ],
   "source": [
    "df.columns"
   ]
  },
  {
   "cell_type": "code",
   "execution_count": 50,
   "id": "f608e3ad",
   "metadata": {},
   "outputs": [
    {
     "data": {
      "text/plain": [
       "3"
      ]
     },
     "execution_count": 50,
     "metadata": {},
     "output_type": "execute_result"
    }
   ],
   "source": [
    "df.nvars"
   ]
  },
  {
   "cell_type": "code",
   "execution_count": 51,
   "id": "4a3d4bb0",
   "metadata": {},
   "outputs": [
    {
     "data": {
      "text/plain": [
       "5"
      ]
     },
     "execution_count": 51,
     "metadata": {},
     "output_type": "execute_result"
    }
   ],
   "source": [
    "df.nrow"
   ]
  },
  {
   "cell_type": "code",
   "execution_count": 52,
   "id": "2ff33402",
   "metadata": {},
   "outputs": [],
   "source": [
    "from transformslib.tables.metaframe import MetaFrame\n",
    "mf = MetaFrame(df)"
   ]
  }
 ],
 "metadata": {
  "kernelspec": {
   "display_name": "Python 3",
   "language": "python",
   "name": "python3"
  },
  "language_info": {
   "codemirror_mode": {
    "name": "ipython",
    "version": 3
   },
   "file_extension": ".py",
   "mimetype": "text/x-python",
   "name": "python",
   "nbconvert_exporter": "python",
   "pygments_lexer": "ipython3",
   "version": "3.10.8"
  }
 },
 "nbformat": 4,
 "nbformat_minor": 5
}
