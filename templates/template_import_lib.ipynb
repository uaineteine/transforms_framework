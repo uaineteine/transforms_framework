{
 "cells": [
  {
   "cell_type": "code",
   "execution_count": 1,
   "id": "95f2716b",
   "metadata": {},
   "outputs": [
    {
     "name": "stdout",
     "output_type": "stream",
     "text": [
      "\n",
      " Transforms Library: 17 transforms available\n",
      "   Use listme() to see all available transforms in a table format.\n",
      "\n"
     ]
    }
   ],
   "source": [
    "from transformslib.transforms.atomiclib import *"
   ]
  },
  {
   "cell_type": "code",
   "execution_count": 2,
   "id": "61760bed",
   "metadata": {},
   "outputs": [
    {
     "name": "stdout",
     "output_type": "stream",
     "text": [
      "\n",
      "================================================================================\n",
      " TRANSFORMS LIBRARY - Available Transform Classes\n",
      "================================================================================\n",
      " Total Transforms: 17\n",
      "================================================================================\n",
      "Transform Name     | Description\n",
      "-------------------+----------------------------------------------------------\n",
      "ComplexFilter      | Transform class for filtering rows in a DataFrame usin...\n",
      "ConcatColumns      | Transform class for concatenating multiple columns int...\n",
      "DistinctTable      | Transform class for removing duplicate rows from a Dat...\n",
      "DropNAValues       | Transform class for dropping rows with NA/None/Null va...\n",
      "DropVariable       | Transform class for removing one or more variables/col...\n",
      "ExplodeColumn      | Transform class for exploding a list-like column into ...\n",
      "ForceCase          | Transform class to force string values in a specified ...\n",
      "JoinTable          | Transform class for joining two tables in a TableColle...\n",
      "PartitionByValue   | Transform class for partitioning a DataFrame into mult...\n",
      "RenameTable        | Transform class for renaming columns in a DataFrame.\n",
      "ReplaceByCondition | Transform class for replacing values in a column based...\n",
      "RoundNumber        | Transform class to round numeric values in a specified...\n",
      "SimpleFilter       | Transform class for filtering rows in a DataFrame usin...\n",
      "SubsetTable        | Transform class for subsetting a DataFrame to retain o...\n",
      "TrimWhitespace     | Transform class for trimming leading and trailing whit...\n",
      "TruncateDate       | Transform class to truncate date values in a specified...\n",
      "UnionTables        | Transform class to perform a union of two tables with ...\n",
      "================================================================================\n",
      " Use help(ClassName) for detailed information about any transform.\n",
      "================================================================================\n",
      "\n"
     ]
    }
   ],
   "source": [
    "listme()"
   ]
  }
 ],
 "metadata": {
  "kernelspec": {
   "display_name": "Python 3",
   "language": "python",
   "name": "python3"
  },
  "language_info": {
   "codemirror_mode": {
    "name": "ipython",
    "version": 3
   },
   "file_extension": ".py",
   "mimetype": "text/x-python",
   "name": "python",
   "nbconvert_exporter": "python",
   "pygments_lexer": "ipython3",
   "version": "3.10.8"
  }
 },
 "nbformat": 4,
 "nbformat_minor": 5
}
